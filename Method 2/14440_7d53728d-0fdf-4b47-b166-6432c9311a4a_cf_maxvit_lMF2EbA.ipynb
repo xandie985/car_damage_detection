{
 "cells": [
  {
   "cell_type": "code",
   "execution_count": 1,
   "id": "5587781a",
   "metadata": {
    "scrolled": true
   },
   "outputs": [
    {
     "name": "stdout",
     "output_type": "stream",
     "text": [
      "Requirement already satisfied: timm==0.9.12 in /root/miniconda3/envs/py3.10/lib/python3.10/site-packages (0.9.12)\n",
      "Requirement already satisfied: torch>=1.7 in /root/miniconda3/envs/py3.10/lib/python3.10/site-packages (from timm==0.9.12) (2.1.2)\n",
      "Requirement already satisfied: torchvision in /root/miniconda3/envs/py3.10/lib/python3.10/site-packages (from timm==0.9.12) (0.16.2)\n",
      "Requirement already satisfied: pyyaml in /root/miniconda3/envs/py3.10/lib/python3.10/site-packages (from timm==0.9.12) (6.0.1)\n",
      "Requirement already satisfied: huggingface-hub in /root/miniconda3/envs/py3.10/lib/python3.10/site-packages (from timm==0.9.12) (0.20.3)\n",
      "Requirement already satisfied: safetensors in /root/miniconda3/envs/py3.10/lib/python3.10/site-packages (from timm==0.9.12) (0.4.2)\n",
      "Requirement already satisfied: filelock in /root/miniconda3/envs/py3.10/lib/python3.10/site-packages (from torch>=1.7->timm==0.9.12) (3.13.1)\n",
      "Requirement already satisfied: typing-extensions in /root/miniconda3/envs/py3.10/lib/python3.10/site-packages (from torch>=1.7->timm==0.9.12) (4.9.0)\n",
      "Requirement already satisfied: sympy in /root/miniconda3/envs/py3.10/lib/python3.10/site-packages (from torch>=1.7->timm==0.9.12) (1.12)\n",
      "Requirement already satisfied: networkx in /root/miniconda3/envs/py3.10/lib/python3.10/site-packages (from torch>=1.7->timm==0.9.12) (3.2.1)\n",
      "Requirement already satisfied: jinja2 in /root/miniconda3/envs/py3.10/lib/python3.10/site-packages (from torch>=1.7->timm==0.9.12) (3.1.3)\n",
      "Requirement already satisfied: fsspec in /root/miniconda3/envs/py3.10/lib/python3.10/site-packages (from torch>=1.7->timm==0.9.12) (2023.10.0)\n",
      "Requirement already satisfied: nvidia-cuda-nvrtc-cu12==12.1.105 in /root/miniconda3/envs/py3.10/lib/python3.10/site-packages (from torch>=1.7->timm==0.9.12) (12.1.105)\n",
      "Requirement already satisfied: nvidia-cuda-runtime-cu12==12.1.105 in /root/miniconda3/envs/py3.10/lib/python3.10/site-packages (from torch>=1.7->timm==0.9.12) (12.1.105)\n",
      "Requirement already satisfied: nvidia-cuda-cupti-cu12==12.1.105 in /root/miniconda3/envs/py3.10/lib/python3.10/site-packages (from torch>=1.7->timm==0.9.12) (12.1.105)\n",
      "Requirement already satisfied: nvidia-cudnn-cu12==8.9.2.26 in /root/miniconda3/envs/py3.10/lib/python3.10/site-packages (from torch>=1.7->timm==0.9.12) (8.9.2.26)\n",
      "Requirement already satisfied: nvidia-cublas-cu12==12.1.3.1 in /root/miniconda3/envs/py3.10/lib/python3.10/site-packages (from torch>=1.7->timm==0.9.12) (12.1.3.1)\n",
      "Requirement already satisfied: nvidia-cufft-cu12==11.0.2.54 in /root/miniconda3/envs/py3.10/lib/python3.10/site-packages (from torch>=1.7->timm==0.9.12) (11.0.2.54)\n",
      "Requirement already satisfied: nvidia-curand-cu12==10.3.2.106 in /root/miniconda3/envs/py3.10/lib/python3.10/site-packages (from torch>=1.7->timm==0.9.12) (10.3.2.106)\n",
      "Requirement already satisfied: nvidia-cusolver-cu12==11.4.5.107 in /root/miniconda3/envs/py3.10/lib/python3.10/site-packages (from torch>=1.7->timm==0.9.12) (11.4.5.107)\n",
      "Requirement already satisfied: nvidia-cusparse-cu12==12.1.0.106 in /root/miniconda3/envs/py3.10/lib/python3.10/site-packages (from torch>=1.7->timm==0.9.12) (12.1.0.106)\n",
      "Requirement already satisfied: nvidia-nccl-cu12==2.18.1 in /root/miniconda3/envs/py3.10/lib/python3.10/site-packages (from torch>=1.7->timm==0.9.12) (2.18.1)\n",
      "Requirement already satisfied: nvidia-nvtx-cu12==12.1.105 in /root/miniconda3/envs/py3.10/lib/python3.10/site-packages (from torch>=1.7->timm==0.9.12) (12.1.105)\n",
      "Requirement already satisfied: triton==2.1.0 in /root/miniconda3/envs/py3.10/lib/python3.10/site-packages (from torch>=1.7->timm==0.9.12) (2.1.0)\n",
      "Requirement already satisfied: nvidia-nvjitlink-cu12 in /root/miniconda3/envs/py3.10/lib/python3.10/site-packages (from nvidia-cusolver-cu12==11.4.5.107->torch>=1.7->timm==0.9.12) (12.3.101)\n",
      "Requirement already satisfied: requests in /root/miniconda3/envs/py3.10/lib/python3.10/site-packages (from huggingface-hub->timm==0.9.12) (2.31.0)\n",
      "Requirement already satisfied: tqdm>=4.42.1 in /root/miniconda3/envs/py3.10/lib/python3.10/site-packages (from huggingface-hub->timm==0.9.12) (4.66.1)\n",
      "Requirement already satisfied: packaging>=20.9 in /root/miniconda3/envs/py3.10/lib/python3.10/site-packages (from huggingface-hub->timm==0.9.12) (23.2)\n",
      "Requirement already satisfied: numpy in /root/miniconda3/envs/py3.10/lib/python3.10/site-packages (from torchvision->timm==0.9.12) (1.26.3)\n",
      "Requirement already satisfied: pillow!=8.3.*,>=5.3.0 in /root/miniconda3/envs/py3.10/lib/python3.10/site-packages (from torchvision->timm==0.9.12) (10.2.0)\n",
      "Requirement already satisfied: MarkupSafe>=2.0 in /root/miniconda3/envs/py3.10/lib/python3.10/site-packages (from jinja2->torch>=1.7->timm==0.9.12) (2.1.4)\n",
      "Requirement already satisfied: charset-normalizer<4,>=2 in /root/miniconda3/envs/py3.10/lib/python3.10/site-packages (from requests->huggingface-hub->timm==0.9.12) (3.3.2)\n",
      "Requirement already satisfied: idna<4,>=2.5 in /root/miniconda3/envs/py3.10/lib/python3.10/site-packages (from requests->huggingface-hub->timm==0.9.12) (3.6)\n",
      "Requirement already satisfied: urllib3<3,>=1.21.1 in /root/miniconda3/envs/py3.10/lib/python3.10/site-packages (from requests->huggingface-hub->timm==0.9.12) (2.1.0)\n",
      "Requirement already satisfied: certifi>=2017.4.17 in /root/miniconda3/envs/py3.10/lib/python3.10/site-packages (from requests->huggingface-hub->timm==0.9.12) (2023.11.17)\n",
      "Requirement already satisfied: mpmath>=0.19 in /root/miniconda3/envs/py3.10/lib/python3.10/site-packages (from sympy->torch>=1.7->timm==0.9.12) (1.3.0)\n",
      "\u001b[33mWARNING: Running pip as the 'root' user can result in broken permissions and conflicting behaviour with the system package manager. It is recommended to use a virtual environment instead: https://pip.pypa.io/warnings/venv\u001b[0m\u001b[33m\n",
      "\u001b[0m\n",
      "\u001b[1m[\u001b[0m\u001b[34;49mnotice\u001b[0m\u001b[1;39;49m]\u001b[0m\u001b[39;49m A new release of pip is available: \u001b[0m\u001b[31;49m23.3.2\u001b[0m\u001b[39;49m -> \u001b[0m\u001b[32;49m24.0\u001b[0m\n",
      "\u001b[1m[\u001b[0m\u001b[34;49mnotice\u001b[0m\u001b[1;39;49m]\u001b[0m\u001b[39;49m To update, run: \u001b[0m\u001b[32;49mpip install --upgrade pip\u001b[0m\n"
     ]
    }
   ],
   "source": [
    "!pip install timm==0.9.12"
   ]
  },
  {
   "cell_type": "code",
   "execution_count": null,
   "id": "6f138ed1",
   "metadata": {},
   "outputs": [],
   "source": [
    "pwd"
   ]
  },
  {
   "cell_type": "code",
   "execution_count": 3,
   "id": "1d27b638",
   "metadata": {},
   "outputs": [],
   "source": [
    "import os\n",
    "import gc\n",
    "import typing as t\n",
    "import numpy as np\n",
    "import pandas as pd\n",
    "from tqdm import tqdm\n",
    "\n",
    "from fastai.vision.all import *\n",
    "\n",
    "import timm\n",
    "import torch\n",
    "from torch import nn, optim\n",
    "\n",
    "import torchvision\n",
    "from torchvision import datasets, transforms\n",
    "\n",
    "from torch.nn import functional as F\n",
    "from torch.utils.data import DataLoader, sampler, random_split\n",
    "\n",
    "from sklearn.model_selection import StratifiedKFold"
   ]
  },
  {
   "cell_type": "code",
   "execution_count": 4,
   "id": "732c1337",
   "metadata": {},
   "outputs": [],
   "source": [
    "import warnings\n",
    "warnings.filterwarnings(\"ignore\")"
   ]
  },
  {
   "cell_type": "code",
   "execution_count": 5,
   "id": "699524c6",
   "metadata": {},
   "outputs": [],
   "source": [
    "# del model, learn\n",
    "# gc.collect()"
   ]
  },
  {
   "cell_type": "code",
   "execution_count": 6,
   "id": "55a22d92",
   "metadata": {},
   "outputs": [],
   "source": [
    "def clean_cuda_mem():\n",
    "    gc.collect()\n",
    "    torch.cuda.empty_cache()"
   ]
  },
  {
   "cell_type": "code",
   "execution_count": 7,
   "id": "11a68632",
   "metadata": {},
   "outputs": [],
   "source": [
    "clean_cuda_mem()"
   ]
  },
  {
   "cell_type": "code",
   "execution_count": 8,
   "id": "b5f0ef54",
   "metadata": {},
   "outputs": [],
   "source": [
    "def get_batch_size(\n",
    "    model: nn.Module,\n",
    "    device: torch.device,\n",
    "    input_shape: t.Tuple[int, int, int],\n",
    "    output_shape: t.Tuple[int],\n",
    "    dataset_size: int,\n",
    "    max_batch_size: int = None,\n",
    "    num_iterations: int = 5,\n",
    ") -> int:\n",
    "    model.to(device)\n",
    "    model.train(True)\n",
    "    optimizer = torch.optim.Adam(model.parameters())\n",
    "\n",
    "    batch_size = 2\n",
    "    while True:\n",
    "        if max_batch_size is not None and batch_size >= max_batch_size:\n",
    "            batch_size = max_batch_size\n",
    "            break\n",
    "        if batch_size >= dataset_size:\n",
    "            batch_size = batch_size // 2\n",
    "            break\n",
    "        try:\n",
    "            for _ in range(num_iterations):\n",
    "                # dummy inputs and targets\n",
    "                inputs = torch.rand(*(batch_size, *input_shape), device=device)\n",
    "                targets = torch.rand(*(batch_size, *output_shape), device=device)\n",
    "                outputs = model(inputs)\n",
    "                loss = F.mse_loss(targets, outputs)\n",
    "                loss.backward()\n",
    "                optimizer.step()\n",
    "                optimizer.zero_grad()\n",
    "            batch_size *= 2\n",
    "        except RuntimeError:\n",
    "            batch_size //= 2\n",
    "            break\n",
    "    del model, optimizer\n",
    "    torch.cuda.empty_cache()\n",
    "    return batch_size"
   ]
  },
  {
   "cell_type": "code",
   "execution_count": 9,
   "id": "786aec90",
   "metadata": {},
   "outputs": [],
   "source": [
    "set_seed(13, reproducible=True)"
   ]
  },
  {
   "cell_type": "code",
   "execution_count": null,
   "id": "b5f29ddf",
   "metadata": {},
   "outputs": [],
   "source": []
  },
  {
   "cell_type": "code",
   "execution_count": 10,
   "id": "cb168952",
   "metadata": {},
   "outputs": [],
   "source": [
    "path = \"../data\""
   ]
  },
  {
   "cell_type": "code",
   "execution_count": 11,
   "id": "5c49d9ce",
   "metadata": {},
   "outputs": [
    {
     "data": {
      "text/plain": [
       "((8079, 3), (3462, 2))"
      ]
     },
     "execution_count": 11,
     "metadata": {},
     "output_type": "execute_result"
    }
   ],
   "source": [
    "train_df = pd.read_csv(f\"{path}/train/train/train.csv\")\n",
    "test_df = pd.read_csv(f\"{path}/test/test/test.csv\")\n",
    "\n",
    "train_df.shape, test_df.shape"
   ]
  },
  {
   "cell_type": "code",
   "execution_count": 12,
   "id": "9dc0da61",
   "metadata": {},
   "outputs": [
    {
     "data": {
      "text/plain": [
       "label\n",
       "0    0.942443\n",
       "1    0.057557\n",
       "Name: proportion, dtype: float64"
      ]
     },
     "execution_count": 12,
     "metadata": {},
     "output_type": "execute_result"
    }
   ],
   "source": [
    "target = 'label'\n",
    "\n",
    "train_df[target].value_counts(normalize=True)"
   ]
  },
  {
   "cell_type": "code",
   "execution_count": 13,
   "id": "c2d12cb5",
   "metadata": {},
   "outputs": [
    {
     "data": {
      "text/html": [
       "<div>\n",
       "<style scoped>\n",
       "    .dataframe tbody tr th:only-of-type {\n",
       "        vertical-align: middle;\n",
       "    }\n",
       "\n",
       "    .dataframe tbody tr th {\n",
       "        vertical-align: top;\n",
       "    }\n",
       "\n",
       "    .dataframe thead th {\n",
       "        text-align: right;\n",
       "    }\n",
       "</style>\n",
       "<table border=\"1\" class=\"dataframe\">\n",
       "  <thead>\n",
       "    <tr style=\"text-align: right;\">\n",
       "      <th></th>\n",
       "      <th>image_id</th>\n",
       "      <th>filename</th>\n",
       "      <th>label</th>\n",
       "    </tr>\n",
       "  </thead>\n",
       "  <tbody>\n",
       "    <tr>\n",
       "      <th>0</th>\n",
       "      <td>1</td>\n",
       "      <td>../data/train/train/images/1.jpg</td>\n",
       "      <td>0</td>\n",
       "    </tr>\n",
       "    <tr>\n",
       "      <th>1</th>\n",
       "      <td>2</td>\n",
       "      <td>../data/train/train/images/2.jpg</td>\n",
       "      <td>0</td>\n",
       "    </tr>\n",
       "    <tr>\n",
       "      <th>2</th>\n",
       "      <td>3</td>\n",
       "      <td>../data/train/train/images/3.jpg</td>\n",
       "      <td>0</td>\n",
       "    </tr>\n",
       "    <tr>\n",
       "      <th>3</th>\n",
       "      <td>4</td>\n",
       "      <td>../data/train/train/images/4.jpg</td>\n",
       "      <td>0</td>\n",
       "    </tr>\n",
       "    <tr>\n",
       "      <th>4</th>\n",
       "      <td>5</td>\n",
       "      <td>../data/train/train/images/5.jpg</td>\n",
       "      <td>0</td>\n",
       "    </tr>\n",
       "  </tbody>\n",
       "</table>\n",
       "</div>"
      ],
      "text/plain": [
       "   image_id                          filename  label\n",
       "0         1  ../data/train/train/images/1.jpg      0\n",
       "1         2  ../data/train/train/images/2.jpg      0\n",
       "2         3  ../data/train/train/images/3.jpg      0\n",
       "3         4  ../data/train/train/images/4.jpg      0\n",
       "4         5  ../data/train/train/images/5.jpg      0"
      ]
     },
     "execution_count": 13,
     "metadata": {},
     "output_type": "execute_result"
    }
   ],
   "source": [
    "train_df['filename'] = train_df['filename'].apply(lambda x: f\"{path}/train/train/images/\" + x)\n",
    "test_df['filename'] = test_df['filename'].apply(lambda x: f\"{path}/test/test/images/\" + x)\n",
    "\n",
    "train_df.head()"
   ]
  },
  {
   "cell_type": "code",
   "execution_count": 14,
   "id": "b23a4784",
   "metadata": {},
   "outputs": [],
   "source": [
    "# train_df = train_df.sample(500)\n",
    "# test_df = test_df.sample(100)"
   ]
  },
  {
   "cell_type": "code",
   "execution_count": 15,
   "id": "70a65a05",
   "metadata": {},
   "outputs": [],
   "source": [
    "img_size = (512, 512) # 384, 224"
   ]
  },
  {
   "cell_type": "code",
   "execution_count": 16,
   "id": "9f981416",
   "metadata": {},
   "outputs": [
    {
     "name": "stdout",
     "output_type": "stream",
     "text": [
      "(3, 512, 512)\n"
     ]
    }
   ],
   "source": [
    "model_name = 'maxvit_large_tf_512' # swinv2_large_window12to24_192to384, convnextv2_base, convnextv2_large, vit_small_patch16_224, swin_large_patch4_window12_384\n",
    "\n",
    "# dataset information\n",
    "IMAGE_SHAPE = (3, *img_size)\n",
    "NUM_CLASSES = 2\n",
    "DATASET_SIZE = train_df.shape[0]\n",
    "\n",
    "print(IMAGE_SHAPE)"
   ]
  },
  {
   "cell_type": "code",
   "execution_count": 17,
   "id": "a65f6970",
   "metadata": {},
   "outputs": [
    {
     "data": {
      "application/vnd.jupyter.widget-view+json": {
       "model_id": "ba0d674031574819bb24c1c335c1873f",
       "version_major": 2,
       "version_minor": 0
      },
      "text/plain": [
       "model.safetensors:   0%|          | 0.00/850M [00:00<?, ?B/s]"
      ]
     },
     "metadata": {},
     "output_type": "display_data"
    }
   ],
   "source": [
    "# model = timm.create_model(\n",
    "#     model_name, \n",
    "#     pretrained=True, \n",
    "#     num_classes=2) # dls.c"
   ]
  },
  {
   "cell_type": "code",
   "execution_count": 18,
   "id": "d5cf3f19",
   "metadata": {},
   "outputs": [
    {
     "data": {
      "text/plain": [
       "4"
      ]
     },
     "execution_count": 18,
     "metadata": {},
     "output_type": "execute_result"
    }
   ],
   "source": [
    "# device = torch.device(\"cuda\")\n",
    "\n",
    "# batch_size = get_batch_size(\n",
    "#     model=model,\n",
    "#     device=device,\n",
    "#     input_shape=IMAGE_SHAPE,\n",
    "#     output_shape=(NUM_CLASSES,),\n",
    "#     dataset_size=DATASET_SIZE,\n",
    "# )\n",
    "# batch_size"
   ]
  },
  {
   "cell_type": "code",
   "execution_count": 19,
   "id": "decedf1c",
   "metadata": {},
   "outputs": [],
   "source": [
    "batch_size = 4"
   ]
  },
  {
   "cell_type": "code",
   "execution_count": 20,
   "id": "4964c13e",
   "metadata": {},
   "outputs": [],
   "source": [
    "clean_cuda_mem()"
   ]
  },
  {
   "cell_type": "code",
   "execution_count": 78,
   "id": "1797cc75",
   "metadata": {
    "execution": {
     "iopub.execute_input": "2024-02-08T20:57:32.547366Z",
     "iopub.status.busy": "2024-02-08T20:57:32.547068Z",
     "iopub.status.idle": "2024-02-08T20:57:32.550920Z",
     "shell.execute_reply": "2024-02-08T20:57:32.550183Z",
     "shell.execute_reply.started": "2024-02-08T20:57:32.547337Z"
    }
   },
   "outputs": [],
   "source": [
    "# timm.list_models('*convnextv2*')"
   ]
  },
  {
   "cell_type": "code",
   "execution_count": 21,
   "id": "0c9c964b",
   "metadata": {},
   "outputs": [],
   "source": [
    "# dls = ImageDataLoaders.from_df(\n",
    "#     train_df,\n",
    "#     fn_col='filename',\n",
    "#     label_col='label',\n",
    "#     valid_pct=0.2, \n",
    "#     seed=13,\n",
    "#     shuffle=True,\n",
    "#     item_tfms=Resize(size=img_size),\n",
    "#     bs=batch_size,\n",
    "#     batch_tfms=setup_aug_tfms([\n",
    "#         Brightness(), \n",
    "#         Contrast(), \n",
    "#         Hue(), \n",
    "#         Saturation(),\n",
    "        \n",
    "#         Flip(),\n",
    "#         Zoom(),\n",
    "# #         Warping(),\n",
    "        \n",
    "#     ])\n",
    "# )\n",
    "\n",
    "# test_dl = dls.test_dl(test_df)\n",
    "\n",
    "# dls.show_batch()"
   ]
  },
  {
   "cell_type": "code",
   "execution_count": 21,
   "id": "c2b6bd49",
   "metadata": {},
   "outputs": [],
   "source": [
    "def create_model(dl, model, metrics):\n",
    "    learn = Learner(dl, model, metrics=metrics)\n",
    "    \n",
    "    return learn\n",
    "\n",
    "def fit_model(learn, max_epochs, lr, cbs):\n",
    "    learn.fit_one_cycle(\n",
    "        max_epochs,\n",
    "        lr,\n",
    "        cbs=cbs\n",
    "    )\n",
    "    \n",
    "    return learn\n",
    "\n",
    "def get_preds(dl, learn, get_tta=False):\n",
    "    preds, _ = learn.get_preds(dl=test_dl)\n",
    "    preds = preds[:, 1].numpy()\n",
    "    \n",
    "    if get_tta:\n",
    "        tta_preds, _ = learn.tta(dl=test_dl)\n",
    "        tta_preds = tta_preds[:, 1].numpy()\n",
    "        \n",
    "        return preds, tta_preds\n",
    "    \n",
    "    return preds"
   ]
  },
  {
   "cell_type": "code",
   "execution_count": 22,
   "id": "88b74dd7",
   "metadata": {},
   "outputs": [],
   "source": [
    "def create_folds(train_df, N_FOLDS=5):\n",
    "    train_df['fold'] = -1\n",
    "    \n",
    "    strat_kfold = StratifiedKFold(n_splits=N_FOLDS, random_state=13, shuffle=True)\n",
    "    for i, (_, trn_idx) in enumerate(strat_kfold.split(train_df.index, train_df[target])):\n",
    "        train_df.iloc[trn_idx, -1] = i\n",
    "\n",
    "    train_df['fold'] = train_df['fold'].astype('int')\n",
    "\n",
    "#     train_df.fold.value_counts().plot.bar()\n",
    "    \n",
    "    return train_df"
   ]
  },
  {
   "cell_type": "code",
   "execution_count": 23,
   "id": "f25a087c",
   "metadata": {},
   "outputs": [],
   "source": [
    "def create_model(dl, model, metrics):\n",
    "    learn = Learner(dl, model, metrics=metrics)\n",
    "    \n",
    "    return learn\n",
    "\n",
    "def fit_model(learn, max_epochs, lr, cbs):\n",
    "    learn.fit_one_cycle(\n",
    "        max_epochs,\n",
    "        lr,\n",
    "        cbs=cbs\n",
    "    )\n",
    "    \n",
    "    return learn\n",
    "\n",
    "def get_preds(dls, learn, get_tta=False, valid=False):\n",
    "    if valid:\n",
    "        preds, _ = learn.get_preds()\n",
    "    else:\n",
    "        test_dl = dls.test_dl(test_df)\n",
    "        preds, _ = learn.get_preds(dl=test_dl)\n",
    "    preds = preds[:, 1].numpy()\n",
    "    \n",
    "    if get_tta:\n",
    "        tta_preds, _ = learn.tta(dl=test_dl, n=5, beta=0)\n",
    "        tta_preds = tta_preds[:, 1].numpy()\n",
    "        \n",
    "        return preds, tta_preds\n",
    "    \n",
    "    return preds\n",
    "\n",
    "def get_best_metrics(learn):\n",
    "    acc, f1 = learn.recorder.metrics[0].value.item(), learn.recorder.metrics[1].value.item()\n",
    "    \n",
    "    return acc, f1"
   ]
  },
  {
   "cell_type": "code",
   "execution_count": 24,
   "id": "2ba44a51",
   "metadata": {},
   "outputs": [],
   "source": [
    "def get_data(fold):\n",
    "    cur_train = train_df.copy()\n",
    "    cur_train['is_valid'] = (cur_train['fold'] == fold)\n",
    "    \n",
    "    dls = ImageDataLoaders.from_df(\n",
    "        cur_train,\n",
    "        fn_col='filename',\n",
    "        label_col='label',\n",
    "        valid_col='is_valid',\n",
    "        seed=13,\n",
    "        shuffle=True,\n",
    "        item_tfms=Resize(size=img_size),\n",
    "        bs=batch_size,\n",
    "        batch_tfms=setup_aug_tfms([\n",
    "            Brightness(), \n",
    "            Contrast(), \n",
    "            Hue(), \n",
    "            Saturation(),\n",
    "\n",
    "            Flip(),\n",
    "            Zoom(),\n",
    "    #         Warping(),\n",
    "\n",
    "        ])\n",
    "    )\n",
    "\n",
    "    return dls"
   ]
  },
  {
   "cell_type": "code",
   "execution_count": 25,
   "id": "407d35e8",
   "metadata": {},
   "outputs": [],
   "source": [
    "metrics=[accuracy, F1Score(average='macro')]\n",
    "\n",
    "def build_callbacks(save_name):\n",
    "    cbs=[\n",
    "        EarlyStoppingCallback(monitor='f1_score', comp=np.greater, patience=3),\n",
    "        SaveModelCallback(monitor='f1_score', comp=np.greater, fname=save_name, at_end=False), \n",
    "    #     ReduceLROnPlateau(monitor='f1_score', comp=np.greater, patience=2, factor=0.2, min_lr=1e-5),\n",
    "    ]\n",
    "    \n",
    "    return cbs"
   ]
  },
  {
   "cell_type": "code",
   "execution_count": 26,
   "id": "7db92435",
   "metadata": {},
   "outputs": [],
   "source": [
    "max_epochs = 15\n",
    "lr = 2e-5"
   ]
  },
  {
   "cell_type": "code",
   "execution_count": 27,
   "id": "519c95c9",
   "metadata": {},
   "outputs": [],
   "source": [
    "# cbs = build_callbacks(save_name=model_name)"
   ]
  },
  {
   "cell_type": "code",
   "execution_count": 64,
   "id": "bbb459c3",
   "metadata": {
    "execution": {
     "iopub.execute_input": "2024-02-08T20:42:19.670631Z",
     "iopub.status.busy": "2024-02-08T20:42:19.669487Z",
     "iopub.status.idle": "2024-02-08T20:42:19.675405Z",
     "shell.execute_reply": "2024-02-08T20:42:19.673990Z",
     "shell.execute_reply.started": "2024-02-08T20:42:19.670586Z"
    }
   },
   "outputs": [],
   "source": [
    "# model = timm.create_model(\n",
    "#     model_name, \n",
    "#     pretrained=True, \n",
    "#     num_classes=2) # "
   ]
  },
  {
   "cell_type": "code",
   "execution_count": 63,
   "id": "d364d8e2",
   "metadata": {
    "execution": {
     "iopub.execute_input": "2024-02-08T20:42:17.120212Z",
     "iopub.status.busy": "2024-02-08T20:42:17.119804Z",
     "iopub.status.idle": "2024-02-08T20:42:17.124666Z",
     "shell.execute_reply": "2024-02-08T20:42:17.123483Z",
     "shell.execute_reply.started": "2024-02-08T20:42:17.120183Z"
    },
    "scrolled": true
   },
   "outputs": [],
   "source": [
    "# learn = create_model(dls, model, metrics)\n",
    "# # learn.lr_find(end_lr=3e-2)"
   ]
  },
  {
   "cell_type": "code",
   "execution_count": 62,
   "id": "7bebd8bf",
   "metadata": {
    "execution": {
     "iopub.execute_input": "2024-02-08T20:42:13.410440Z",
     "iopub.status.busy": "2024-02-08T20:42:13.410018Z",
     "iopub.status.idle": "2024-02-08T20:42:13.416479Z",
     "shell.execute_reply": "2024-02-08T20:42:13.415322Z",
     "shell.execute_reply.started": "2024-02-08T20:42:13.410411Z"
    },
    "scrolled": true
   },
   "outputs": [],
   "source": [
    "# del model, learn\n",
    "\n",
    "# gc.collect()"
   ]
  },
  {
   "cell_type": "code",
   "execution_count": 30,
   "id": "9e85e385",
   "metadata": {},
   "outputs": [],
   "source": [
    "# clean_cuda_mem()"
   ]
  },
  {
   "cell_type": "code",
   "execution_count": 56,
   "id": "24285bec",
   "metadata": {
    "execution": {
     "iopub.execute_input": "2024-02-08T20:42:04.397778Z",
     "iopub.status.busy": "2024-02-08T20:42:04.396337Z",
     "iopub.status.idle": "2024-02-08T20:42:04.403475Z",
     "shell.execute_reply": "2024-02-08T20:42:04.402158Z",
     "shell.execute_reply.started": "2024-02-08T20:42:04.397732Z"
    },
    "scrolled": true
   },
   "outputs": [],
   "source": [
    "# learn = fit_model(learn, max_epochs, lr=lr, cbs=cbs)\n",
    "# learn.recorder.plot_loss()"
   ]
  },
  {
   "cell_type": "code",
   "execution_count": 57,
   "id": "bd2d5703",
   "metadata": {
    "execution": {
     "iopub.execute_input": "2024-02-08T20:42:07.658544Z",
     "iopub.status.busy": "2024-02-08T20:42:07.657660Z",
     "iopub.status.idle": "2024-02-08T20:42:07.663178Z",
     "shell.execute_reply": "2024-02-08T20:42:07.662140Z",
     "shell.execute_reply.started": "2024-02-08T20:42:07.658501Z"
    }
   },
   "outputs": [],
   "source": [
    "# preds, tta_preds = get_preds(dls, learn, get_tta=True)"
   ]
  },
  {
   "cell_type": "code",
   "execution_count": 58,
   "id": "e0a3bb14",
   "metadata": {
    "execution": {
     "iopub.execute_input": "2024-02-08T20:42:09.113143Z",
     "iopub.status.busy": "2024-02-08T20:42:09.112311Z",
     "iopub.status.idle": "2024-02-08T20:42:09.117547Z",
     "shell.execute_reply": "2024-02-08T20:42:09.116465Z",
     "shell.execute_reply.started": "2024-02-08T20:42:09.113105Z"
    }
   },
   "outputs": [],
   "source": [
    "# preds.shape, tta_preds.shape"
   ]
  },
  {
   "cell_type": "code",
   "execution_count": 59,
   "id": "ee8f2d6b",
   "metadata": {
    "execution": {
     "iopub.execute_input": "2024-02-08T20:42:09.260215Z",
     "iopub.status.busy": "2024-02-08T20:42:09.259734Z",
     "iopub.status.idle": "2024-02-08T20:42:09.265381Z",
     "shell.execute_reply": "2024-02-08T20:42:09.264227Z",
     "shell.execute_reply.started": "2024-02-08T20:42:09.260181Z"
    }
   },
   "outputs": [],
   "source": [
    "# sub = pd.read_csv(\"../data/sample_submission.csv\")\n",
    "# sub['label'] = tta_preds # preds\n",
    "# sub['label'] = sub['label'].apply(lambda x: 1 if x >= 0.5 else 0)\n",
    "# sub['label'].value_counts(normalize=True)"
   ]
  },
  {
   "cell_type": "code",
   "execution_count": 60,
   "id": "95a3007b",
   "metadata": {
    "execution": {
     "iopub.execute_input": "2024-02-08T20:42:10.422255Z",
     "iopub.status.busy": "2024-02-08T20:42:10.421835Z",
     "iopub.status.idle": "2024-02-08T20:42:10.427310Z",
     "shell.execute_reply": "2024-02-08T20:42:10.425843Z",
     "shell.execute_reply.started": "2024-02-08T20:42:10.422226Z"
    }
   },
   "outputs": [],
   "source": [
    "# model_name"
   ]
  },
  {
   "cell_type": "code",
   "execution_count": 61,
   "id": "c913b9df",
   "metadata": {
    "execution": {
     "iopub.execute_input": "2024-02-08T20:42:10.567688Z",
     "iopub.status.busy": "2024-02-08T20:42:10.567313Z",
     "iopub.status.idle": "2024-02-08T20:42:10.572829Z",
     "shell.execute_reply": "2024-02-08T20:42:10.571426Z",
     "shell.execute_reply.started": "2024-02-08T20:42:10.567661Z"
    }
   },
   "outputs": [],
   "source": [
    "# sub.to_csv(f\"{model_name}_384_2.csv\", index=False)"
   ]
  },
  {
   "cell_type": "code",
   "execution_count": null,
   "id": "d710d9aa",
   "metadata": {},
   "outputs": [],
   "source": []
  },
  {
   "cell_type": "code",
   "execution_count": 28,
   "id": "61b46736",
   "metadata": {},
   "outputs": [],
   "source": [
    "N_FOLDS = 5\n",
    "\n",
    "train_df = create_folds(train_df, N_FOLDS)"
   ]
  },
  {
   "cell_type": "code",
   "execution_count": 29,
   "id": "eb705573",
   "metadata": {},
   "outputs": [],
   "source": [
    "# dls = get_data(0)\n",
    "# dls.show_batch()"
   ]
  },
  {
   "cell_type": "code",
   "execution_count": null,
   "id": "6f5a2332",
   "metadata": {},
   "outputs": [
    {
     "name": "stderr",
     "output_type": "stream",
     "text": [
      "  0%|          | 0/5 [00:00<?, ?it/s]"
     ]
    },
    {
     "name": "stdout",
     "output_type": "stream",
     "text": [
      "Fold 0 results\n"
     ]
    },
    {
     "data": {
      "text/html": [
       "\n",
       "<style>\n",
       "    /* Turns off some styling */\n",
       "    progress {\n",
       "        /* gets rid of default border in Firefox and Opera. */\n",
       "        border: none;\n",
       "        /* Needs to be in here for Safari polyfill so background images work as expected. */\n",
       "        background-size: auto;\n",
       "    }\n",
       "    progress:not([value]), progress:not([value])::-webkit-progress-bar {\n",
       "        background: repeating-linear-gradient(45deg, #7e7e7e, #7e7e7e 10px, #5c5c5c 10px, #5c5c5c 20px);\n",
       "    }\n",
       "    .progress-bar-interrupted, .progress-bar-interrupted::-webkit-progress-bar {\n",
       "        background: #F44336;\n",
       "    }\n",
       "</style>\n"
      ],
      "text/plain": [
       "<IPython.core.display.HTML object>"
      ]
     },
     "metadata": {},
     "output_type": "display_data"
    },
    {
     "data": {
      "text/html": [
       "\n",
       "    <div>\n",
       "      <progress value='10' class='' max='15' style='width:300px; height:20px; vertical-align: middle;'></progress>\n",
       "      66.67% [10/15 3:03:36&lt;1:31:48]\n",
       "    </div>\n",
       "    \n",
       "<table border=\"1\" class=\"dataframe\">\n",
       "  <thead>\n",
       "    <tr style=\"text-align: left;\">\n",
       "      <th>epoch</th>\n",
       "      <th>train_loss</th>\n",
       "      <th>valid_loss</th>\n",
       "      <th>accuracy</th>\n",
       "      <th>f1_score</th>\n",
       "      <th>time</th>\n",
       "    </tr>\n",
       "  </thead>\n",
       "  <tbody>\n",
       "    <tr>\n",
       "      <td>0</td>\n",
       "      <td>0.126382</td>\n",
       "      <td>0.173825</td>\n",
       "      <td>0.943069</td>\n",
       "      <td>0.495979</td>\n",
       "      <td>18:16</td>\n",
       "    </tr>\n",
       "    <tr>\n",
       "      <td>1</td>\n",
       "      <td>0.069025</td>\n",
       "      <td>0.073068</td>\n",
       "      <td>0.973391</td>\n",
       "      <td>0.881526</td>\n",
       "      <td>18:17</td>\n",
       "    </tr>\n",
       "    <tr>\n",
       "      <td>2</td>\n",
       "      <td>0.017128</td>\n",
       "      <td>0.029116</td>\n",
       "      <td>0.989480</td>\n",
       "      <td>0.948088</td>\n",
       "      <td>18:20</td>\n",
       "    </tr>\n",
       "    <tr>\n",
       "      <td>3</td>\n",
       "      <td>0.005273</td>\n",
       "      <td>0.055256</td>\n",
       "      <td>0.987624</td>\n",
       "      <td>0.947678</td>\n",
       "      <td>18:21</td>\n",
       "    </tr>\n",
       "    <tr>\n",
       "      <td>4</td>\n",
       "      <td>0.014847</td>\n",
       "      <td>0.010150</td>\n",
       "      <td>0.997525</td>\n",
       "      <td>0.988355</td>\n",
       "      <td>18:20</td>\n",
       "    </tr>\n",
       "    <tr>\n",
       "      <td>5</td>\n",
       "      <td>0.001011</td>\n",
       "      <td>0.007107</td>\n",
       "      <td>0.998762</td>\n",
       "      <td>0.994237</td>\n",
       "      <td>18:21</td>\n",
       "    </tr>\n",
       "    <tr>\n",
       "      <td>6</td>\n",
       "      <td>0.001291</td>\n",
       "      <td>0.002624</td>\n",
       "      <td>0.998762</td>\n",
       "      <td>0.994237</td>\n",
       "      <td>18:21</td>\n",
       "    </tr>\n",
       "    <tr>\n",
       "      <td>7</td>\n",
       "      <td>0.000083</td>\n",
       "      <td>0.000585</td>\n",
       "      <td>1.000000</td>\n",
       "      <td>1.000000</td>\n",
       "      <td>18:20</td>\n",
       "    </tr>\n",
       "    <tr>\n",
       "      <td>8</td>\n",
       "      <td>0.000028</td>\n",
       "      <td>0.000921</td>\n",
       "      <td>0.999381</td>\n",
       "      <td>0.997162</td>\n",
       "      <td>18:20</td>\n",
       "    </tr>\n",
       "    <tr>\n",
       "      <td>9</td>\n",
       "      <td>0.000439</td>\n",
       "      <td>0.001581</td>\n",
       "      <td>0.999381</td>\n",
       "      <td>0.997162</td>\n",
       "      <td>18:20</td>\n",
       "    </tr>\n",
       "  </tbody>\n",
       "</table><p>\n",
       "\n",
       "    <div>\n",
       "      <progress value='1341' class='' max='1615' style='width:300px; height:20px; vertical-align: middle;'></progress>\n",
       "      83.03% [1341/1615 14:14&lt;02:54 0.0000]\n",
       "    </div>\n",
       "    "
      ],
      "text/plain": [
       "<IPython.core.display.HTML object>"
      ]
     },
     "metadata": {},
     "output_type": "display_data"
    },
    {
     "name": "stdout",
     "output_type": "stream",
     "text": [
      "Better model found at epoch 0 with f1_score value: 0.4959792793892302.\n",
      "Better model found at epoch 1 with f1_score value: 0.8815263406458697.\n",
      "Better model found at epoch 2 with f1_score value: 0.9480883661780739.\n",
      "Better model found at epoch 4 with f1_score value: 0.9883552513060709.\n",
      "Better model found at epoch 5 with f1_score value: 0.994237133401803.\n",
      "Better model found at epoch 7 with f1_score value: 1.0.\n"
     ]
    },
    {
     "name": "stderr",
     "output_type": "stream",
     "text": [
      "IOPub message rate exceeded.\n",
      "The Jupyter server will temporarily stop sending output\n",
      "to the client in order to avoid crashing it.\n",
      "To change this limit, set the config variable\n",
      "`--ServerApp.iopub_msg_rate_limit`.\n",
      "\n",
      "Current values:\n",
      "ServerApp.iopub_msg_rate_limit=1000.0 (msgs/sec)\n",
      "ServerApp.rate_limit_window=3.0 (secs)\n",
      "\n"
     ]
    },
    {
     "name": "stdout",
     "output_type": "stream",
     "text": [
      "Better model found at epoch 3 with f1_score value: 0.9856660073266572.\n",
      "Better model found at epoch 4 with f1_score value: 0.9888162220146026.\n",
      "Better model found at epoch 5 with f1_score value: 1.0.\n"
     ]
    }
   ],
   "source": [
    "all_preds = [] # np.zeros(shape=(dataloader.test.shape[0], 1))\n",
    "all_preds_tta = []\n",
    "all_val_preds = []\n",
    "\n",
    "score = 0\n",
    "\n",
    "for i in tqdm(range(N_FOLDS)):\n",
    "\n",
    "    print(f'Fold {i} results')\n",
    "\n",
    "    dls = get_data(i)\n",
    "    \n",
    "    model = timm.create_model(\n",
    "        model_name, \n",
    "        pretrained=True, \n",
    "        num_classes=dls.c)\n",
    "    \n",
    "    cbs = build_callbacks(save_name=f\"{model_name}_fold{i}\")\n",
    "\n",
    "    learn = create_model(dls, model, metrics)# .to_fp16()\n",
    "    \n",
    "    learn = fit_model(learn, max_epochs, lr=lr, cbs=cbs)\n",
    "    learn.recorder.plot_loss()\n",
    "    \n",
    "    fold_acc, fold_f1 = get_best_metrics(learn)\n",
    "    print(f\"Best Acc: {fold_acc} | \\t Best F1 : {fold_f1}\")\n",
    "    \n",
    "    score += fold_f1\n",
    "\n",
    "    #learn = learn.to_fp32()\n",
    "\n",
    "    #learn.export(f'model_fold_{i}.pkl')\n",
    "    #learn.save(f'model_fold_{i}.pkl')\n",
    "    \n",
    "    preds, tta_preds = get_preds(dls, learn, get_tta=True, valid=False)\n",
    "    val_preds = get_preds(dls, learn, get_tta=False, valid=True)\n",
    "\n",
    "    all_preds.append(preds)\n",
    "    all_preds_tta.append(tta_preds)\n",
    "    all_val_preds.append(val_preds)\n",
    "\n",
    "    del learn, dls, model\n",
    "    torch.cuda.empty_cache()\n",
    "    gc.collect()\n",
    "    \n",
    "    print('--'*30)\n",
    "\n",
    "score /= N_FOLDS\n",
    "print(f\"Mean KFold Score for {model_name} : {score}\")"
   ]
  },
  {
   "cell_type": "code",
   "execution_count": null,
   "id": "824c59dc",
   "metadata": {},
   "outputs": [],
   "source": [
    "score"
   ]
  },
  {
   "cell_type": "code",
   "execution_count": null,
   "id": "0a069d57-1a0d-4c4a-a50b-3f4f395e5afb",
   "metadata": {},
   "outputs": [],
   "source": [
    "score"
   ]
  },
  {
   "cell_type": "code",
   "execution_count": null,
   "id": "3064bd78",
   "metadata": {},
   "outputs": [],
   "source": [
    "import joblib\n",
    "\n",
    "joblib.dump(all_preds, f\"{model_name}_all_preds.pkl\")\n",
    "joblib.dump(all_preds_tta, f\"{model_name}_all_preds_tta.pkl\")\n",
    "joblib.dump(all_val_preds, f\"{model_name}_all_val_preds.pkl\")"
   ]
  },
  {
   "cell_type": "code",
   "execution_count": null,
   "id": "7cdd596f",
   "metadata": {},
   "outputs": [],
   "source": [
    "len(all_preds), len(all_preds_tta), len(all_val_preds)"
   ]
  },
  {
   "cell_type": "code",
   "execution_count": null,
   "id": "5b90edd7",
   "metadata": {},
   "outputs": [],
   "source": [
    "mean_preds = np.mean(np.stack(all_preds, axis=1), axis=1)\n",
    "mean_preds_tta = np.mean(np.stack(all_preds_tta, axis=1), axis=1)\n",
    "\n",
    "mean_preds.shape, mean_preds_tta.shape"
   ]
  },
  {
   "cell_type": "code",
   "execution_count": 33,
   "id": "4c6fc21a",
   "metadata": {},
   "outputs": [],
   "source": [
    "# learner = Learner(get_data(0), model_name, metrics=[accuracy, F1Score(average='macro')])\n",
    "# learner.fit_one_cycle(\n",
    "#     20, \n",
    "#     2e-5, \n",
    "#     cbs=[EarlyStoppingCallback(monitor='f1_score', comp=np.greater, patience=3)]) # SaveModelCallback(), "
   ]
  },
  {
   "cell_type": "code",
   "execution_count": 104,
   "id": "11c0788f",
   "metadata": {},
   "outputs": [],
   "source": [
    "# preds, _ = learner.get_preds(dl=test_dl)\n",
    "# preds = preds[:, 1].numpy()\n",
    "# print(preds.shape)\n",
    "\n",
    "# pd.Series(preds).plot()"
   ]
  },
  {
   "cell_type": "code",
   "execution_count": null,
   "id": "c443f4c0",
   "metadata": {},
   "outputs": [],
   "source": [
    "sub = pd.read_csv(\"../data/sample_submission.csv\")\n",
    "sub['label'] = mean_preds_tta\n",
    "sub['label'] = sub['label'].apply(lambda x: 1 if x >= 0.5 else 0)\n",
    "sub['label'].value_counts(normalize=True)"
   ]
  },
  {
   "cell_type": "code",
   "execution_count": null,
   "id": "f8e2b851",
   "metadata": {},
   "outputs": [],
   "source": [
    "sub.to_csv(f\"{model_name}_5fold_512_2.csv\", index=False)"
   ]
  },
  {
   "cell_type": "code",
   "execution_count": null,
   "id": "19941c28",
   "metadata": {},
   "outputs": [],
   "source": [
    "train_df.to_csv(f\"{model_name}_train_df.csv\", index=False)"
   ]
  },
  {
   "cell_type": "code",
   "execution_count": null,
   "id": "b90c5583",
   "metadata": {},
   "outputs": [],
   "source": [
    "# 05:47PM"
   ]
  },
  {
   "cell_type": "code",
   "execution_count": null,
   "id": "d0ec9a93-e17a-4f1e-84f2-6d6bfa5e54cc",
   "metadata": {},
   "outputs": [],
   "source": [
    "1"
   ]
  },
  {
   "cell_type": "code",
   "execution_count": null,
   "id": "e9b09ce5-fd8d-462e-b2b6-0c1269fad409",
   "metadata": {},
   "outputs": [],
   "source": []
  }
 ],
 "metadata": {
  "kaggle": {
   "accelerator": "tpu1vmV38",
   "dataSources": [
    {
     "datasetId": 4399816,
     "sourceId": 7554356,
     "sourceType": "datasetVersion"
    }
   ],
   "isGpuEnabled": false,
   "isInternetEnabled": true,
   "language": "python",
   "sourceType": "notebook"
  },
  "kernelspec": {
   "display_name": "Python 3 (ipykernel)",
   "language": "python",
   "name": "python3"
  },
  "language_info": {
   "codemirror_mode": {
    "name": "ipython",
    "version": 3
   },
   "file_extension": ".py",
   "mimetype": "text/x-python",
   "name": "python",
   "nbconvert_exporter": "python",
   "pygments_lexer": "ipython3",
   "version": "3.10.13"
  }
 },
 "nbformat": 4,
 "nbformat_minor": 5
}
